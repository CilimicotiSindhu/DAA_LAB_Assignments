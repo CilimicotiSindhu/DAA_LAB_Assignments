{
  "nbformat": 4,
  "nbformat_minor": 0,
  "metadata": {
    "colab": {
      "provenance": []
    },
    "kernelspec": {
      "name": "python3",
      "display_name": "Python 3"
    },
    "language_info": {
      "name": "python"
    }
  },
  "cells": [
    {
      "cell_type": "markdown",
      "source": [
        "**Lab-4**"
      ],
      "metadata": {
        "id": "pZ0Hm4rNuxmT"
      }
    },
    {
      "cell_type": "markdown",
      "source": [
        "**Q1.**"
      ],
      "metadata": {
        "id": "bMSsPIzmu3ai"
      }
    },
    {
      "cell_type": "code",
      "source": [
        "def fractional_knapsack(items, capacity):\n",
        "    # Sort items based on their value-to-weight ratio in descending order\n",
        "    items.sort(key=lambda x: x[1] / x[0], reverse=True)\n",
        "\n",
        "    total_value = 0\n",
        "    knapsack = []\n",
        "\n",
        "    for weight, value in items:\n",
        "        if capacity >= weight:\n",
        "            # If the entire item can be added to the knapsack\n",
        "            knapsack.append((weight, value))\n",
        "            total_value += value\n",
        "            capacity -= weight\n",
        "        else:\n",
        "            # If only a fraction of the item can be added\n",
        "            fraction = capacity / weight\n",
        "            knapsack.append((capacity, fraction * value))\n",
        "            total_value += fraction * value\n",
        "            break\n",
        "\n",
        "    return knapsack, total_value\n",
        "\n",
        "# Example usage:\n",
        "items = [(10, 60), (20, 100), (30, 120)]  # Each item is a tuple of (weight, value)\n",
        "capacity = 50\n",
        "solution, optimal_value = fractional_knapsack(items, capacity)\n",
        "\n",
        "print(\"Optimal solution:\")\n",
        "for weight, value in solution:\n",
        "    print(\"Weight:\", weight, \"Value:\", value)\n",
        "\n",
        "print(\"Total value:\", optimal_value)\n"
      ],
      "metadata": {
        "id": "qWkrDNAZu8AA"
      },
      "execution_count": null,
      "outputs": []
    },
    {
      "cell_type": "markdown",
      "source": [
        "**Q2.**"
      ],
      "metadata": {
        "id": "z6Kd3VO_u9rE"
      }
    },
    {
      "cell_type": "code",
      "source": [
        "def maximize_sum(arr):\n",
        "    # Sort the array in descending order\n",
        "    arr.sort(reverse=True)\n",
        "\n",
        "    # Initialize the sum\n",
        "    max_sum = 0\n",
        "\n",
        "    # Calculate the sum of arr[i] * i\n",
        "    for i in range(len(arr)):\n",
        "        max_sum += arr[i] * i\n",
        "\n",
        "    return max_sum\n",
        "\n",
        "# Example usage:\n",
        "arr = [4, 2, 1, 3]\n",
        "maximized_sum = maximize_sum(arr)\n",
        "print(\"Maximized sum:\", maximized_sum)\n"
      ],
      "metadata": {
        "id": "77h-ccuBvAAX"
      },
      "execution_count": null,
      "outputs": []
    },
    {
      "cell_type": "markdown",
      "source": [
        "**Q3.**"
      ],
      "metadata": {
        "id": "CjlWx27AvKJU"
      }
    },
    {
      "cell_type": "code",
      "source": [
        "def minimize_product_sum(array_One, array_Two):\n",
        "    # Sort the arrays in ascending order\n",
        "    array_One.sort()\n",
        "    array_Two.sort()\n",
        "\n",
        "    # Initialize the sum\n",
        "    min_product_sum = 0\n",
        "\n",
        "    # Calculate the sum of the product of pairs\n",
        "    for i in range(len(array_One)):\n",
        "        min_product_sum += array_One[i] * array_Two[len(array_Two) - i - 1]\n",
        "\n",
        "    return min_product_sum\n",
        "\n",
        "# Example usage:\n",
        "array_One = [3, 1, 2]\n",
        "array_Two = [6, 5, 4]\n",
        "minimized_sum = minimize_product_sum(array_One, array_Two)\n",
        "print(\"Minimum product sum:\", minimized_sum)\n"
      ],
      "metadata": {
        "id": "n1MMqBxivL60"
      },
      "execution_count": null,
      "outputs": []
    }
  ]
}